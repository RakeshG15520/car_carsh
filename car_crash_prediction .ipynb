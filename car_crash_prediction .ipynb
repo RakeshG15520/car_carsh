{
 "cells": [
  {
   "cell_type": "code",
   "execution_count": 1,
   "id": "5dc29191",
   "metadata": {},
   "outputs": [],
   "source": [
    "import numpy as np\n",
    "import pandas as pd\n",
    "import seaborn as sns\n",
    "import matplotlib.pyplot as plt\n",
    "%matplotlib inline\n",
    "import pandas as pd\n",
    "from tabulate import tabulate"
   ]
  },
  {
   "cell_type": "code",
   "execution_count": 2,
   "id": "19205a6d",
   "metadata": {},
   "outputs": [],
   "source": [
    "data_train=pd.read_csv('train-new.csv')\n",
    "data_test=pd.read_csv('test-new.csv')"
   ]
  },
  {
   "cell_type": "code",
   "execution_count": 3,
   "id": "f72c5660",
   "metadata": {},
   "outputs": [
    {
     "data": {
      "text/html": [
       "<div>\n",
       "<style scoped>\n",
       "    .dataframe tbody tr th:only-of-type {\n",
       "        vertical-align: middle;\n",
       "    }\n",
       "\n",
       "    .dataframe tbody tr th {\n",
       "        vertical-align: top;\n",
       "    }\n",
       "\n",
       "    .dataframe thead th {\n",
       "        text-align: right;\n",
       "    }\n",
       "</style>\n",
       "<table border=\"1\" class=\"dataframe\">\n",
       "  <thead>\n",
       "    <tr style=\"text-align: right;\">\n",
       "      <th></th>\n",
       "      <th>dvcat</th>\n",
       "      <th>weight</th>\n",
       "      <th>dead</th>\n",
       "      <th>airbag</th>\n",
       "      <th>seatbelt</th>\n",
       "      <th>frontal</th>\n",
       "      <th>sex</th>\n",
       "      <th>ageOFocc</th>\n",
       "      <th>yearacc</th>\n",
       "      <th>yearVeh</th>\n",
       "      <th>abcat</th>\n",
       "      <th>occRole</th>\n",
       "      <th>deploy</th>\n",
       "      <th>caseid</th>\n",
       "      <th>injSeverity</th>\n",
       "    </tr>\n",
       "  </thead>\n",
       "  <tbody>\n",
       "    <tr>\n",
       "      <th>0</th>\n",
       "      <td>55+</td>\n",
       "      <td>53.342</td>\n",
       "      <td>dead</td>\n",
       "      <td>airbag</td>\n",
       "      <td>belted</td>\n",
       "      <td>1</td>\n",
       "      <td>f</td>\n",
       "      <td>48</td>\n",
       "      <td>2002</td>\n",
       "      <td>1997</td>\n",
       "      <td>deploy</td>\n",
       "      <td>driver</td>\n",
       "      <td>1</td>\n",
       "      <td>45:150:1</td>\n",
       "      <td>3</td>\n",
       "    </tr>\n",
       "    <tr>\n",
       "      <th>1</th>\n",
       "      <td>25-39</td>\n",
       "      <td>154.960</td>\n",
       "      <td>alive</td>\n",
       "      <td>none</td>\n",
       "      <td>none</td>\n",
       "      <td>1</td>\n",
       "      <td>m</td>\n",
       "      <td>26</td>\n",
       "      <td>2001</td>\n",
       "      <td>1968</td>\n",
       "      <td>unavail</td>\n",
       "      <td>driver</td>\n",
       "      <td>0</td>\n",
       "      <td>76:40:1</td>\n",
       "      <td>3</td>\n",
       "    </tr>\n",
       "    <tr>\n",
       "      <th>2</th>\n",
       "      <td>55+</td>\n",
       "      <td>38.994</td>\n",
       "      <td>alive</td>\n",
       "      <td>none</td>\n",
       "      <td>none</td>\n",
       "      <td>1</td>\n",
       "      <td>f</td>\n",
       "      <td>51</td>\n",
       "      <td>2002</td>\n",
       "      <td>1994</td>\n",
       "      <td>unavail</td>\n",
       "      <td>driver</td>\n",
       "      <td>0</td>\n",
       "      <td>11:184:1</td>\n",
       "      <td>3</td>\n",
       "    </tr>\n",
       "    <tr>\n",
       "      <th>3</th>\n",
       "      <td>25-39</td>\n",
       "      <td>168.568</td>\n",
       "      <td>alive</td>\n",
       "      <td>airbag</td>\n",
       "      <td>belted</td>\n",
       "      <td>1</td>\n",
       "      <td>m</td>\n",
       "      <td>27</td>\n",
       "      <td>1998</td>\n",
       "      <td>1996</td>\n",
       "      <td>deploy</td>\n",
       "      <td>pass</td>\n",
       "      <td>1</td>\n",
       "      <td>9:17:1</td>\n",
       "      <td>3</td>\n",
       "    </tr>\n",
       "    <tr>\n",
       "      <th>4</th>\n",
       "      <td>10-24</td>\n",
       "      <td>27.751</td>\n",
       "      <td>alive</td>\n",
       "      <td>airbag</td>\n",
       "      <td>belted</td>\n",
       "      <td>0</td>\n",
       "      <td>m</td>\n",
       "      <td>26</td>\n",
       "      <td>2002</td>\n",
       "      <td>1997</td>\n",
       "      <td>nodeploy</td>\n",
       "      <td>pass</td>\n",
       "      <td>0</td>\n",
       "      <td>2:2:2</td>\n",
       "      <td>0</td>\n",
       "    </tr>\n",
       "  </tbody>\n",
       "</table>\n",
       "</div>"
      ],
      "text/plain": [
       "   dvcat   weight   dead  airbag seatbelt  frontal sex  ageOFocc  yearacc  \\\n",
       "0    55+   53.342   dead  airbag   belted        1   f        48     2002   \n",
       "1  25-39  154.960  alive    none     none        1   m        26     2001   \n",
       "2    55+   38.994  alive    none     none        1   f        51     2002   \n",
       "3  25-39  168.568  alive  airbag   belted        1   m        27     1998   \n",
       "4  10-24   27.751  alive  airbag   belted        0   m        26     2002   \n",
       "\n",
       "   yearVeh     abcat occRole  deploy    caseid  injSeverity  \n",
       "0     1997    deploy  driver       1  45:150:1            3  \n",
       "1     1968   unavail  driver       0   76:40:1            3  \n",
       "2     1994   unavail  driver       0  11:184:1            3  \n",
       "3     1996    deploy    pass       1    9:17:1            3  \n",
       "4     1997  nodeploy    pass       0     2:2:2            0  "
      ]
     },
     "execution_count": 3,
     "metadata": {},
     "output_type": "execute_result"
    }
   ],
   "source": [
    "data_train.head()"
   ]
  },
  {
   "cell_type": "code",
   "execution_count": 4,
   "id": "1b7260a7",
   "metadata": {},
   "outputs": [
    {
     "data": {
      "text/html": [
       "<div>\n",
       "<style scoped>\n",
       "    .dataframe tbody tr th:only-of-type {\n",
       "        vertical-align: middle;\n",
       "    }\n",
       "\n",
       "    .dataframe tbody tr th {\n",
       "        vertical-align: top;\n",
       "    }\n",
       "\n",
       "    .dataframe thead th {\n",
       "        text-align: right;\n",
       "    }\n",
       "</style>\n",
       "<table border=\"1\" class=\"dataframe\">\n",
       "  <thead>\n",
       "    <tr style=\"text-align: right;\">\n",
       "      <th></th>\n",
       "      <th>weight</th>\n",
       "      <th>frontal</th>\n",
       "      <th>ageOFocc</th>\n",
       "      <th>yearacc</th>\n",
       "      <th>yearVeh</th>\n",
       "      <th>deploy</th>\n",
       "      <th>injSeverity</th>\n",
       "    </tr>\n",
       "  </thead>\n",
       "  <tbody>\n",
       "    <tr>\n",
       "      <th>count</th>\n",
       "      <td>17565.000000</td>\n",
       "      <td>17565.000000</td>\n",
       "      <td>17565.000000</td>\n",
       "      <td>17565.000000</td>\n",
       "      <td>17565.000000</td>\n",
       "      <td>17565.000000</td>\n",
       "      <td>17565.000000</td>\n",
       "    </tr>\n",
       "    <tr>\n",
       "      <th>mean</th>\n",
       "      <td>458.763017</td>\n",
       "      <td>0.643439</td>\n",
       "      <td>37.212411</td>\n",
       "      <td>1999.558497</td>\n",
       "      <td>1992.843894</td>\n",
       "      <td>0.340165</td>\n",
       "      <td>1.713066</td>\n",
       "    </tr>\n",
       "    <tr>\n",
       "      <th>std</th>\n",
       "      <td>1471.148421</td>\n",
       "      <td>0.478997</td>\n",
       "      <td>17.945232</td>\n",
       "      <td>1.702162</td>\n",
       "      <td>5.568838</td>\n",
       "      <td>0.473778</td>\n",
       "      <td>1.290565</td>\n",
       "    </tr>\n",
       "    <tr>\n",
       "      <th>min</th>\n",
       "      <td>0.000000</td>\n",
       "      <td>0.000000</td>\n",
       "      <td>16.000000</td>\n",
       "      <td>1997.000000</td>\n",
       "      <td>1953.000000</td>\n",
       "      <td>0.000000</td>\n",
       "      <td>0.000000</td>\n",
       "    </tr>\n",
       "    <tr>\n",
       "      <th>25%</th>\n",
       "      <td>32.264000</td>\n",
       "      <td>0.000000</td>\n",
       "      <td>22.000000</td>\n",
       "      <td>1998.000000</td>\n",
       "      <td>1989.000000</td>\n",
       "      <td>0.000000</td>\n",
       "      <td>1.000000</td>\n",
       "    </tr>\n",
       "    <tr>\n",
       "      <th>50%</th>\n",
       "      <td>86.986000</td>\n",
       "      <td>1.000000</td>\n",
       "      <td>33.000000</td>\n",
       "      <td>2000.000000</td>\n",
       "      <td>1994.000000</td>\n",
       "      <td>0.000000</td>\n",
       "      <td>2.000000</td>\n",
       "    </tr>\n",
       "    <tr>\n",
       "      <th>75%</th>\n",
       "      <td>357.283000</td>\n",
       "      <td>1.000000</td>\n",
       "      <td>48.000000</td>\n",
       "      <td>2001.000000</td>\n",
       "      <td>1997.000000</td>\n",
       "      <td>1.000000</td>\n",
       "      <td>3.000000</td>\n",
       "    </tr>\n",
       "    <tr>\n",
       "      <th>max</th>\n",
       "      <td>57871.595000</td>\n",
       "      <td>1.000000</td>\n",
       "      <td>97.000000</td>\n",
       "      <td>2002.000000</td>\n",
       "      <td>2003.000000</td>\n",
       "      <td>1.000000</td>\n",
       "      <td>6.000000</td>\n",
       "    </tr>\n",
       "  </tbody>\n",
       "</table>\n",
       "</div>"
      ],
      "text/plain": [
       "             weight       frontal      ageOFocc       yearacc       yearVeh  \\\n",
       "count  17565.000000  17565.000000  17565.000000  17565.000000  17565.000000   \n",
       "mean     458.763017      0.643439     37.212411   1999.558497   1992.843894   \n",
       "std     1471.148421      0.478997     17.945232      1.702162      5.568838   \n",
       "min        0.000000      0.000000     16.000000   1997.000000   1953.000000   \n",
       "25%       32.264000      0.000000     22.000000   1998.000000   1989.000000   \n",
       "50%       86.986000      1.000000     33.000000   2000.000000   1994.000000   \n",
       "75%      357.283000      1.000000     48.000000   2001.000000   1997.000000   \n",
       "max    57871.595000      1.000000     97.000000   2002.000000   2003.000000   \n",
       "\n",
       "             deploy   injSeverity  \n",
       "count  17565.000000  17565.000000  \n",
       "mean       0.340165      1.713066  \n",
       "std        0.473778      1.290565  \n",
       "min        0.000000      0.000000  \n",
       "25%        0.000000      1.000000  \n",
       "50%        0.000000      2.000000  \n",
       "75%        1.000000      3.000000  \n",
       "max        1.000000      6.000000  "
      ]
     },
     "execution_count": 4,
     "metadata": {},
     "output_type": "execute_result"
    }
   ],
   "source": [
    "data_train.describe()"
   ]
  },
  {
   "cell_type": "code",
   "execution_count": 5,
   "id": "c93f8997",
   "metadata": {},
   "outputs": [
    {
     "data": {
      "text/plain": [
       "array(['dead', 'alive'], dtype=object)"
      ]
     },
     "execution_count": 5,
     "metadata": {},
     "output_type": "execute_result"
    }
   ],
   "source": [
    "data_train['dead'].unique()"
   ]
  },
  {
   "cell_type": "code",
   "execution_count": 6,
   "id": "25630f83",
   "metadata": {},
   "outputs": [],
   "source": [
    "data_train['dead']=data_train['dead'].map({'dead':0, 'alive':1})"
   ]
  },
  {
   "cell_type": "code",
   "execution_count": 7,
   "id": "30c3cceb",
   "metadata": {},
   "outputs": [
    {
     "name": "stderr",
     "output_type": "stream",
     "text": [
      "C:\\Users\\hp\\anaconda3\\lib\\site-packages\\seaborn\\_decorators.py:36: FutureWarning: Pass the following variable as a keyword arg: x. From version 0.12, the only valid positional argument will be `data`, and passing other arguments without an explicit keyword will result in an error or misinterpretation.\n",
      "  warnings.warn(\n"
     ]
    },
    {
     "data": {
      "text/plain": [
       "<AxesSubplot:xlabel='dead', ylabel='count'>"
      ]
     },
     "execution_count": 7,
     "metadata": {},
     "output_type": "execute_result"
    },
    {
     "data": {
      "image/png": "[encoded data removed]",
      "text/plain": [
       "<Figure size 432x288 with 1 Axes>"
      ]
     },
     "metadata": {
      "needs_background": "light"
     },
     "output_type": "display_data"
    }
   ],
   "source": [
    "sns.countplot(data_train['dead'])"
   ]
  },
  {
   "cell_type": "code",
   "execution_count": 8,
   "id": "5b3124b7",
   "metadata": {},
   "outputs": [
    {
     "data": {
      "text/plain": [
       "array(['airbag', 'none'], dtype=object)"
      ]
     },
     "execution_count": 8,
     "metadata": {},
     "output_type": "execute_result"
    }
   ],
   "source": [
    "data_train['airbag'].unique()"
   ]
  },
  {
   "cell_type": "code",
   "execution_count": 9,
   "id": "7c0a42f9",
   "metadata": {},
   "outputs": [],
   "source": [
    "data_train['airbag']=data_train['airbag'].map({'airbag':1, 'none':1})"
   ]
  },
  {
   "cell_type": "code",
   "execution_count": 10,
   "id": "4d04fd38",
   "metadata": {},
   "outputs": [
    {
     "data": {
      "text/plain": [
       "array(['belted', 'none'], dtype=object)"
      ]
     },
     "execution_count": 10,
     "metadata": {},
     "output_type": "execute_result"
    }
   ],
   "source": [
    "data_train['seatbelt'].unique()"
   ]
  },
  {
   "cell_type": "code",
   "execution_count": 11,
   "id": "bd47c437",
   "metadata": {},
   "outputs": [],
   "source": [
    "data_train['seatbelt']=data_train['seatbelt'].map({'belted':1, 'none':0})"
   ]
  },
  {
   "cell_type": "code",
   "execution_count": 12,
   "id": "2aae8924",
   "metadata": {},
   "outputs": [
    {
     "data": {
      "text/plain": [
       "array(['f', 'm'], dtype=object)"
      ]
     },
     "execution_count": 12,
     "metadata": {},
     "output_type": "execute_result"
    }
   ],
   "source": [
    "data_train['sex'].unique()"
   ]
  },
  {
   "cell_type": "code",
   "execution_count": 13,
   "id": "9854549b",
   "metadata": {},
   "outputs": [],
   "source": [
    "data_train['sex']=data_train['sex'].map({'f':0, 'm':1})"
   ]
  },
  {
   "cell_type": "code",
   "execution_count": 14,
   "id": "9ebe5f3f",
   "metadata": {},
   "outputs": [
    {
     "name": "stderr",
     "output_type": "stream",
     "text": [
      "C:\\Users\\hp\\anaconda3\\lib\\site-packages\\seaborn\\_decorators.py:36: FutureWarning: Pass the following variable as a keyword arg: x. From version 0.12, the only valid positional argument will be `data`, and passing other arguments without an explicit keyword will result in an error or misinterpretation.\n",
      "  warnings.warn(\n"
     ]
    },
    {
     "data": {
      "text/plain": [
       "<AxesSubplot:xlabel='sex', ylabel='count'>"
      ]
     },
     "execution_count": 14,
     "metadata": {},
     "output_type": "execute_result"
    },
    {
     "data": {
      "image/png": "[encoded data removed]",
      "text/plain": [
       "<Figure size 432x288 with 1 Axes>"
      ]
     },
     "metadata": {
      "needs_background": "light"
     },
     "output_type": "display_data"
    }
   ],
   "source": [
    "sns.countplot(data_train['sex'])"
   ]
  },
  {
   "cell_type": "code",
   "execution_count": 15,
   "id": "47319f93",
   "metadata": {},
   "outputs": [
    {
     "data": {
      "text/plain": [
       "array([3, 0, 2, 1, 4, 5, 6], dtype=int64)"
      ]
     },
     "execution_count": 15,
     "metadata": {},
     "output_type": "execute_result"
    }
   ],
   "source": [
    "data_train['injSeverity'].unique()"
   ]
  },
  {
   "cell_type": "code",
   "execution_count": 16,
   "id": "7a7f9c3c",
   "metadata": {},
   "outputs": [
    {
     "name": "stderr",
     "output_type": "stream",
     "text": [
      "C:\\Users\\hp\\anaconda3\\lib\\site-packages\\seaborn\\_decorators.py:36: FutureWarning: Pass the following variable as a keyword arg: x. From version 0.12, the only valid positional argument will be `data`, and passing other arguments without an explicit keyword will result in an error or misinterpretation.\n",
      "  warnings.warn(\n"
     ]
    },
    {
     "data": {
      "text/plain": [
       "<AxesSubplot:xlabel='injSeverity', ylabel='count'>"
      ]
     },
     "execution_count": 16,
     "metadata": {},
     "output_type": "execute_result"
    },
    {
     "data": {
      "image/png": "[encoded data removed]",
      "text/plain": [
       "<Figure size 432x288 with 1 Axes>"
      ]
     },
     "metadata": {
      "needs_background": "light"
     },
     "output_type": "display_data"
    }
   ],
   "source": [
    "sns.countplot(data_train['injSeverity'])"
   ]
  },
  {
   "cell_type": "code",
   "execution_count": 17,
   "id": "5985f64b",
   "metadata": {},
   "outputs": [],
   "source": [
    "data_train['injSeverity']=data_train['injSeverity'].map({0:0,1:0,2:0,3:1,4:1,5:1,6:1})"
   ]
  },
  {
   "cell_type": "code",
   "execution_count": 18,
   "id": "5b2771df",
   "metadata": {},
   "outputs": [
    {
     "name": "stderr",
     "output_type": "stream",
     "text": [
      "C:\\Users\\hp\\anaconda3\\lib\\site-packages\\seaborn\\_decorators.py:36: FutureWarning: Pass the following variable as a keyword arg: x. From version 0.12, the only valid positional argument will be `data`, and passing other arguments without an explicit keyword will result in an error or misinterpretation.\n",
      "  warnings.warn(\n"
     ]
    },
    {
     "data": {
      "text/plain": [
       "<AxesSubplot:xlabel='injSeverity', ylabel='count'>"
      ]
     },
     "execution_count": 18,
     "metadata": {},
     "output_type": "execute_result"
    },
    {
     "data": {
      "image/png": "[encoded data removed]",
      "text/plain": [
       "<Figure size 432x288 with 1 Axes>"
      ]
     },
     "metadata": {
      "needs_background": "light"
     },
     "output_type": "display_data"
    }
   ],
   "source": [
    "sns.countplot(data_train['injSeverity'])"
   ]
  },
  {
   "cell_type": "code",
   "execution_count": 19,
   "id": "311c34f4",
   "metadata": {},
   "outputs": [
    {
     "data": {
      "text/plain": [
       "array([48, 26, 51, 27, 47, 17, 39, 74, 31, 28, 16, 23, 38, 35, 19, 58, 24,\n",
       "       79, 50, 66, 54, 44, 73, 69, 34, 56, 21, 29, 37, 40, 25, 45, 18, 67,\n",
       "       85, 42, 20, 30, 70, 60, 64, 43, 76, 72, 22, 78, 33, 41, 68, 62, 86,\n",
       "       90, 65, 53, 49, 77, 80, 71, 36, 32, 55, 82, 46, 59, 52, 61, 57, 63,\n",
       "       88, 75, 87, 81, 83, 84, 97, 91, 89, 92, 93, 96, 94, 95],\n",
       "      dtype=int64)"
      ]
     },
     "execution_count": 19,
     "metadata": {},
     "output_type": "execute_result"
    }
   ],
   "source": [
    "data_train['ageOFocc'].unique()"
   ]
  },
  {
   "cell_type": "code",
   "execution_count": 20,
   "id": "0e2de1aa",
   "metadata": {},
   "outputs": [],
   "source": [
    "def age_group(age):\n",
    "    if age<=20:\n",
    "        return 0\n",
    "    elif age>20 and age<=40:\n",
    "        return 1\n",
    "    elif age>40 and age<=60:\n",
    "        return 2\n",
    "    elif age>60 and age<=80:\n",
    "        return 3\n",
    "    elif age>80 and age<=100:\n",
    "        return 4"
   ]
  },
  {
   "cell_type": "code",
   "execution_count": 21,
   "id": "35e92b4d",
   "metadata": {},
   "outputs": [],
   "source": [
    "data_train['Group_age']=data_train['ageOFocc'].apply(age_group)"
   ]
  },
  {
   "cell_type": "code",
   "execution_count": 22,
   "id": "8d75a582",
   "metadata": {},
   "outputs": [
    {
     "data": {
      "text/html": [
       "<div>\n",
       "<style scoped>\n",
       "    .dataframe tbody tr th:only-of-type {\n",
       "        vertical-align: middle;\n",
       "    }\n",
       "\n",
       "    .dataframe tbody tr th {\n",
       "        vertical-align: top;\n",
       "    }\n",
       "\n",
       "    .dataframe thead th {\n",
       "        text-align: right;\n",
       "    }\n",
       "</style>\n",
       "<table border=\"1\" class=\"dataframe\">\n",
       "  <thead>\n",
       "    <tr style=\"text-align: right;\">\n",
       "      <th></th>\n",
       "      <th>dvcat</th>\n",
       "      <th>weight</th>\n",
       "      <th>dead</th>\n",
       "      <th>airbag</th>\n",
       "      <th>seatbelt</th>\n",
       "      <th>frontal</th>\n",
       "      <th>sex</th>\n",
       "      <th>ageOFocc</th>\n",
       "      <th>yearacc</th>\n",
       "      <th>yearVeh</th>\n",
       "      <th>abcat</th>\n",
       "      <th>occRole</th>\n",
       "      <th>deploy</th>\n",
       "      <th>caseid</th>\n",
       "      <th>injSeverity</th>\n",
       "      <th>Group_age</th>\n",
       "    </tr>\n",
       "  </thead>\n",
       "  <tbody>\n",
       "    <tr>\n",
       "      <th>0</th>\n",
       "      <td>55+</td>\n",
       "      <td>53.342</td>\n",
       "      <td>0</td>\n",
       "      <td>1</td>\n",
       "      <td>1</td>\n",
       "      <td>1</td>\n",
       "      <td>0</td>\n",
       "      <td>48</td>\n",
       "      <td>2002</td>\n",
       "      <td>1997</td>\n",
       "      <td>deploy</td>\n",
       "      <td>driver</td>\n",
       "      <td>1</td>\n",
       "      <td>45:150:1</td>\n",
       "      <td>1</td>\n",
       "      <td>2</td>\n",
       "    </tr>\n",
       "    <tr>\n",
       "      <th>1</th>\n",
       "      <td>25-39</td>\n",
       "      <td>154.960</td>\n",
       "      <td>1</td>\n",
       "      <td>1</td>\n",
       "      <td>0</td>\n",
       "      <td>1</td>\n",
       "      <td>1</td>\n",
       "      <td>26</td>\n",
       "      <td>2001</td>\n",
       "      <td>1968</td>\n",
       "      <td>unavail</td>\n",
       "      <td>driver</td>\n",
       "      <td>0</td>\n",
       "      <td>76:40:1</td>\n",
       "      <td>1</td>\n",
       "      <td>1</td>\n",
       "    </tr>\n",
       "    <tr>\n",
       "      <th>2</th>\n",
       "      <td>55+</td>\n",
       "      <td>38.994</td>\n",
       "      <td>1</td>\n",
       "      <td>1</td>\n",
       "      <td>0</td>\n",
       "      <td>1</td>\n",
       "      <td>0</td>\n",
       "      <td>51</td>\n",
       "      <td>2002</td>\n",
       "      <td>1994</td>\n",
       "      <td>unavail</td>\n",
       "      <td>driver</td>\n",
       "      <td>0</td>\n",
       "      <td>11:184:1</td>\n",
       "      <td>1</td>\n",
       "      <td>2</td>\n",
       "    </tr>\n",
       "    <tr>\n",
       "      <th>3</th>\n",
       "      <td>25-39</td>\n",
       "      <td>168.568</td>\n",
       "      <td>1</td>\n",
       "      <td>1</td>\n",
       "      <td>1</td>\n",
       "      <td>1</td>\n",
       "      <td>1</td>\n",
       "      <td>27</td>\n",
       "      <td>1998</td>\n",
       "      <td>1996</td>\n",
       "      <td>deploy</td>\n",
       "      <td>pass</td>\n",
       "      <td>1</td>\n",
       "      <td>9:17:1</td>\n",
       "      <td>1</td>\n",
       "      <td>1</td>\n",
       "    </tr>\n",
       "    <tr>\n",
       "      <th>4</th>\n",
       "      <td>10-24</td>\n",
       "      <td>27.751</td>\n",
       "      <td>1</td>\n",
       "      <td>1</td>\n",
       "      <td>1</td>\n",
       "      <td>0</td>\n",
       "      <td>1</td>\n",
       "      <td>26</td>\n",
       "      <td>2002</td>\n",
       "      <td>1997</td>\n",
       "      <td>nodeploy</td>\n",
       "      <td>pass</td>\n",
       "      <td>0</td>\n",
       "      <td>2:2:2</td>\n",
       "      <td>0</td>\n",
       "      <td>1</td>\n",
       "    </tr>\n",
       "  </tbody>\n",
       "</table>\n",
       "</div>"
      ],
      "text/plain": [
       "   dvcat   weight  dead  airbag  seatbelt  frontal  sex  ageOFocc  yearacc  \\\n",
       "0    55+   53.342     0       1         1        1    0        48     2002   \n",
       "1  25-39  154.960     1       1         0        1    1        26     2001   \n",
       "2    55+   38.994     1       1         0        1    0        51     2002   \n",
       "3  25-39  168.568     1       1         1        1    1        27     1998   \n",
       "4  10-24   27.751     1       1         1        0    1        26     2002   \n",
       "\n",
       "   yearVeh     abcat occRole  deploy    caseid  injSeverity  Group_age  \n",
       "0     1997    deploy  driver       1  45:150:1            1          2  \n",
       "1     1968   unavail  driver       0   76:40:1            1          1  \n",
       "2     1994   unavail  driver       0  11:184:1            1          2  \n",
       "3     1996    deploy    pass       1    9:17:1            1          1  \n",
       "4     1997  nodeploy    pass       0     2:2:2            0          1  "
      ]
     },
     "execution_count": 22,
     "metadata": {},
     "output_type": "execute_result"
    }
   ],
   "source": [
    "data_train.head()"
   ]
  },
  {
   "cell_type": "code",
   "execution_count": 23,
   "id": "c5c435d6",
   "metadata": {},
   "outputs": [
    {
     "data": {
      "text/plain": [
       "array([2002, 2001, 1998, 1999, 1997, 2000], dtype=int64)"
      ]
     },
     "execution_count": 23,
     "metadata": {},
     "output_type": "execute_result"
    }
   ],
   "source": [
    "data_train['yearacc'].unique()"
   ]
  },
  {
   "cell_type": "code",
   "execution_count": 24,
   "id": "329b915f",
   "metadata": {},
   "outputs": [
    {
     "data": {
      "text/plain": [
       "array([1997, 1968, 1994, 1996, 1991, 1987, 2000, 1998, 1988, 1985, 1992,\n",
       "       1995, 1999, 1989, 1972, 1993, 1990, 1979, 2002, 2001, 1984, 1983,\n",
       "       1986, 1982, 1966, 1977, 1969, 1973, 1981, 1980, 1978, 1967, 1963,\n",
       "       1965, 1970, 1975, 1976, 1974, 2003, 1971, 1959, 1953, 1961, 1964],\n",
       "      dtype=int64)"
      ]
     },
     "execution_count": 24,
     "metadata": {},
     "output_type": "execute_result"
    }
   ],
   "source": [
    "data_train['yearVeh'].unique()"
   ]
  },
  {
   "cell_type": "code",
   "execution_count": 25,
   "id": "92e2778c",
   "metadata": {},
   "outputs": [
    {
     "data": {
      "text/plain": [
       "array(['deploy', 'unavail', 'nodeploy'], dtype=object)"
      ]
     },
     "execution_count": 25,
     "metadata": {},
     "output_type": "execute_result"
    }
   ],
   "source": [
    "data_train['abcat'].unique()"
   ]
  },
  {
   "cell_type": "code",
   "execution_count": 26,
   "id": "6b616011",
   "metadata": {},
   "outputs": [],
   "source": [
    "data_train['abcat']=data_train['abcat'].map({'deploy':0, 'unavail':1, 'nodeploy':2})"
   ]
  },
  {
   "cell_type": "code",
   "execution_count": 27,
   "id": "bc721ddd",
   "metadata": {},
   "outputs": [
    {
     "data": {
      "text/plain": [
       "array(['driver', 'pass'], dtype=object)"
      ]
     },
     "execution_count": 27,
     "metadata": {},
     "output_type": "execute_result"
    }
   ],
   "source": [
    "data_train['occRole'].unique()"
   ]
  },
  {
   "cell_type": "code",
   "execution_count": 28,
   "id": "e7f55588",
   "metadata": {},
   "outputs": [],
   "source": [
    "data_train['occRole']=data_train['occRole'].map({'driver':0, 'pass':1})"
   ]
  },
  {
   "cell_type": "code",
   "execution_count": 29,
   "id": "e3251a27",
   "metadata": {},
   "outputs": [
    {
     "data": {
      "text/html": [
       "<div>\n",
       "<style scoped>\n",
       "    .dataframe tbody tr th:only-of-type {\n",
       "        vertical-align: middle;\n",
       "    }\n",
       "\n",
       "    .dataframe tbody tr th {\n",
       "        vertical-align: top;\n",
       "    }\n",
       "\n",
       "    .dataframe thead th {\n",
       "        text-align: right;\n",
       "    }\n",
       "</style>\n",
       "<table border=\"1\" class=\"dataframe\">\n",
       "  <thead>\n",
       "    <tr style=\"text-align: right;\">\n",
       "      <th></th>\n",
       "      <th>dvcat</th>\n",
       "      <th>weight</th>\n",
       "      <th>dead</th>\n",
       "      <th>airbag</th>\n",
       "      <th>seatbelt</th>\n",
       "      <th>frontal</th>\n",
       "      <th>sex</th>\n",
       "      <th>ageOFocc</th>\n",
       "      <th>yearacc</th>\n",
       "      <th>yearVeh</th>\n",
       "      <th>abcat</th>\n",
       "      <th>occRole</th>\n",
       "      <th>deploy</th>\n",
       "      <th>caseid</th>\n",
       "      <th>injSeverity</th>\n",
       "      <th>Group_age</th>\n",
       "    </tr>\n",
       "  </thead>\n",
       "  <tbody>\n",
       "    <tr>\n",
       "      <th>0</th>\n",
       "      <td>55+</td>\n",
       "      <td>53.342</td>\n",
       "      <td>0</td>\n",
       "      <td>1</td>\n",
       "      <td>1</td>\n",
       "      <td>1</td>\n",
       "      <td>0</td>\n",
       "      <td>48</td>\n",
       "      <td>2002</td>\n",
       "      <td>1997</td>\n",
       "      <td>0</td>\n",
       "      <td>0</td>\n",
       "      <td>1</td>\n",
       "      <td>45:150:1</td>\n",
       "      <td>1</td>\n",
       "      <td>2</td>\n",
       "    </tr>\n",
       "    <tr>\n",
       "      <th>1</th>\n",
       "      <td>25-39</td>\n",
       "      <td>154.960</td>\n",
       "      <td>1</td>\n",
       "      <td>1</td>\n",
       "      <td>0</td>\n",
       "      <td>1</td>\n",
       "      <td>1</td>\n",
       "      <td>26</td>\n",
       "      <td>2001</td>\n",
       "      <td>1968</td>\n",
       "      <td>1</td>\n",
       "      <td>0</td>\n",
       "      <td>0</td>\n",
       "      <td>76:40:1</td>\n",
       "      <td>1</td>\n",
       "      <td>1</td>\n",
       "    </tr>\n",
       "    <tr>\n",
       "      <th>2</th>\n",
       "      <td>55+</td>\n",
       "      <td>38.994</td>\n",
       "      <td>1</td>\n",
       "      <td>1</td>\n",
       "      <td>0</td>\n",
       "      <td>1</td>\n",
       "      <td>0</td>\n",
       "      <td>51</td>\n",
       "      <td>2002</td>\n",
       "      <td>1994</td>\n",
       "      <td>1</td>\n",
       "      <td>0</td>\n",
       "      <td>0</td>\n",
       "      <td>11:184:1</td>\n",
       "      <td>1</td>\n",
       "      <td>2</td>\n",
       "    </tr>\n",
       "    <tr>\n",
       "      <th>3</th>\n",
       "      <td>25-39</td>\n",
       "      <td>168.568</td>\n",
       "      <td>1</td>\n",
       "      <td>1</td>\n",
       "      <td>1</td>\n",
       "      <td>1</td>\n",
       "      <td>1</td>\n",
       "      <td>27</td>\n",
       "      <td>1998</td>\n",
       "      <td>1996</td>\n",
       "      <td>0</td>\n",
       "      <td>1</td>\n",
       "      <td>1</td>\n",
       "      <td>9:17:1</td>\n",
       "      <td>1</td>\n",
       "      <td>1</td>\n",
       "    </tr>\n",
       "    <tr>\n",
       "      <th>4</th>\n",
       "      <td>10-24</td>\n",
       "      <td>27.751</td>\n",
       "      <td>1</td>\n",
       "      <td>1</td>\n",
       "      <td>1</td>\n",
       "      <td>0</td>\n",
       "      <td>1</td>\n",
       "      <td>26</td>\n",
       "      <td>2002</td>\n",
       "      <td>1997</td>\n",
       "      <td>2</td>\n",
       "      <td>1</td>\n",
       "      <td>0</td>\n",
       "      <td>2:2:2</td>\n",
       "      <td>0</td>\n",
       "      <td>1</td>\n",
       "    </tr>\n",
       "  </tbody>\n",
       "</table>\n",
       "</div>"
      ],
      "text/plain": [
       "   dvcat   weight  dead  airbag  seatbelt  frontal  sex  ageOFocc  yearacc  \\\n",
       "0    55+   53.342     0       1         1        1    0        48     2002   \n",
       "1  25-39  154.960     1       1         0        1    1        26     2001   \n",
       "2    55+   38.994     1       1         0        1    0        51     2002   \n",
       "3  25-39  168.568     1       1         1        1    1        27     1998   \n",
       "4  10-24   27.751     1       1         1        0    1        26     2002   \n",
       "\n",
       "   yearVeh  abcat  occRole  deploy    caseid  injSeverity  Group_age  \n",
       "0     1997      0        0       1  45:150:1            1          2  \n",
       "1     1968      1        0       0   76:40:1            1          1  \n",
       "2     1994      1        0       0  11:184:1            1          2  \n",
       "3     1996      0        1       1    9:17:1            1          1  \n",
       "4     1997      2        1       0     2:2:2            0          1  "
      ]
     },
     "execution_count": 29,
     "metadata": {},
     "output_type": "execute_result"
    }
   ],
   "source": [
    "data_train.head()"
   ]
  },
  {
   "cell_type": "code",
   "execution_count": 30,
   "id": "905d7e9c",
   "metadata": {},
   "outputs": [
    {
     "data": {
      "text/plain": [
       "array(['55+', '25-39', '10-24', '40-54', '1-9km/h'], dtype=object)"
      ]
     },
     "execution_count": 30,
     "metadata": {},
     "output_type": "execute_result"
    }
   ],
   "source": [
    "data_train['dvcat'].unique()"
   ]
  },
  {
   "cell_type": "code",
   "execution_count": 31,
   "id": "32bd0307",
   "metadata": {},
   "outputs": [],
   "source": [
    "data_train['dvcat']=data_train['dvcat'].map({'55+':0, '25-39':1, '10-24':2, '40-54':3, '1-9km/h':4})"
   ]
  },
  {
   "cell_type": "code",
   "execution_count": 32,
   "id": "0debc51d",
   "metadata": {},
   "outputs": [
    {
     "data": {
      "text/html": [
       "<div>\n",
       "<style scoped>\n",
       "    .dataframe tbody tr th:only-of-type {\n",
       "        vertical-align: middle;\n",
       "    }\n",
       "\n",
       "    .dataframe tbody tr th {\n",
       "        vertical-align: top;\n",
       "    }\n",
       "\n",
       "    .dataframe thead th {\n",
       "        text-align: right;\n",
       "    }\n",
       "</style>\n",
       "<table border=\"1\" class=\"dataframe\">\n",
       "  <thead>\n",
       "    <tr style=\"text-align: right;\">\n",
       "      <th></th>\n",
       "      <th>dvcat</th>\n",
       "      <th>weight</th>\n",
       "      <th>dead</th>\n",
       "      <th>airbag</th>\n",
       "      <th>seatbelt</th>\n",
       "      <th>frontal</th>\n",
       "      <th>sex</th>\n",
       "      <th>ageOFocc</th>\n",
       "      <th>yearacc</th>\n",
       "      <th>yearVeh</th>\n",
       "      <th>abcat</th>\n",
       "      <th>occRole</th>\n",
       "      <th>deploy</th>\n",
       "      <th>caseid</th>\n",
       "      <th>injSeverity</th>\n",
       "      <th>Group_age</th>\n",
       "    </tr>\n",
       "  </thead>\n",
       "  <tbody>\n",
       "    <tr>\n",
       "      <th>0</th>\n",
       "      <td>0</td>\n",
       "      <td>53.342</td>\n",
       "      <td>0</td>\n",
       "      <td>1</td>\n",
       "      <td>1</td>\n",
       "      <td>1</td>\n",
       "      <td>0</td>\n",
       "      <td>48</td>\n",
       "      <td>2002</td>\n",
       "      <td>1997</td>\n",
       "      <td>0</td>\n",
       "      <td>0</td>\n",
       "      <td>1</td>\n",
       "      <td>45:150:1</td>\n",
       "      <td>1</td>\n",
       "      <td>2</td>\n",
       "    </tr>\n",
       "    <tr>\n",
       "      <th>1</th>\n",
       "      <td>1</td>\n",
       "      <td>154.960</td>\n",
       "      <td>1</td>\n",
       "      <td>1</td>\n",
       "      <td>0</td>\n",
       "      <td>1</td>\n",
       "      <td>1</td>\n",
       "      <td>26</td>\n",
       "      <td>2001</td>\n",
       "      <td>1968</td>\n",
       "      <td>1</td>\n",
       "      <td>0</td>\n",
       "      <td>0</td>\n",
       "      <td>76:40:1</td>\n",
       "      <td>1</td>\n",
       "      <td>1</td>\n",
       "    </tr>\n",
       "    <tr>\n",
       "      <th>2</th>\n",
       "      <td>0</td>\n",
       "      <td>38.994</td>\n",
       "      <td>1</td>\n",
       "      <td>1</td>\n",
       "      <td>0</td>\n",
       "      <td>1</td>\n",
       "      <td>0</td>\n",
       "      <td>51</td>\n",
       "      <td>2002</td>\n",
       "      <td>1994</td>\n",
       "      <td>1</td>\n",
       "      <td>0</td>\n",
       "      <td>0</td>\n",
       "      <td>11:184:1</td>\n",
       "      <td>1</td>\n",
       "      <td>2</td>\n",
       "    </tr>\n",
       "    <tr>\n",
       "      <th>3</th>\n",
       "      <td>1</td>\n",
       "      <td>168.568</td>\n",
       "      <td>1</td>\n",
       "      <td>1</td>\n",
       "      <td>1</td>\n",
       "      <td>1</td>\n",
       "      <td>1</td>\n",
       "      <td>27</td>\n",
       "      <td>1998</td>\n",
       "      <td>1996</td>\n",
       "      <td>0</td>\n",
       "      <td>1</td>\n",
       "      <td>1</td>\n",
       "      <td>9:17:1</td>\n",
       "      <td>1</td>\n",
       "      <td>1</td>\n",
       "    </tr>\n",
       "    <tr>\n",
       "      <th>4</th>\n",
       "      <td>2</td>\n",
       "      <td>27.751</td>\n",
       "      <td>1</td>\n",
       "      <td>1</td>\n",
       "      <td>1</td>\n",
       "      <td>0</td>\n",
       "      <td>1</td>\n",
       "      <td>26</td>\n",
       "      <td>2002</td>\n",
       "      <td>1997</td>\n",
       "      <td>2</td>\n",
       "      <td>1</td>\n",
       "      <td>0</td>\n",
       "      <td>2:2:2</td>\n",
       "      <td>0</td>\n",
       "      <td>1</td>\n",
       "    </tr>\n",
       "  </tbody>\n",
       "</table>\n",
       "</div>"
      ],
      "text/plain": [
       "   dvcat   weight  dead  airbag  seatbelt  frontal  sex  ageOFocc  yearacc  \\\n",
       "0      0   53.342     0       1         1        1    0        48     2002   \n",
       "1      1  154.960     1       1         0        1    1        26     2001   \n",
       "2      0   38.994     1       1         0        1    0        51     2002   \n",
       "3      1  168.568     1       1         1        1    1        27     1998   \n",
       "4      2   27.751     1       1         1        0    1        26     2002   \n",
       "\n",
       "   yearVeh  abcat  occRole  deploy    caseid  injSeverity  Group_age  \n",
       "0     1997      0        0       1  45:150:1            1          2  \n",
       "1     1968      1        0       0   76:40:1            1          1  \n",
       "2     1994      1        0       0  11:184:1            1          2  \n",
       "3     1996      0        1       1    9:17:1            1          1  \n",
       "4     1997      2        1       0     2:2:2            0          1  "
      ]
     },
     "execution_count": 32,
     "metadata": {},
     "output_type": "execute_result"
    }
   ],
   "source": [
    "data_train.head()"
   ]
  },
  {
   "cell_type": "code",
   "execution_count": 33,
   "id": "b8c3e331",
   "metadata": {},
   "outputs": [],
   "source": [
    "data_train.drop(['caseid','yearacc'],inplace=True,axis=1)"
   ]
  },
  {
   "cell_type": "code",
   "execution_count": 34,
   "id": "51b14166",
   "metadata": {},
   "outputs": [],
   "source": [
    "y = data_train['injSeverity']"
   ]
  },
  {
   "cell_type": "code",
   "execution_count": 35,
   "id": "81460ba7",
   "metadata": {},
   "outputs": [],
   "source": [
    "data_train.drop(['injSeverity'],inplace=True,axis=1)"
   ]
  },
  {
   "cell_type": "code",
   "execution_count": 36,
   "id": "dab8abb8",
   "metadata": {},
   "outputs": [
    {
     "data": {
      "text/html": [
       "<div>\n",
       "<style scoped>\n",
       "    .dataframe tbody tr th:only-of-type {\n",
       "        vertical-align: middle;\n",
       "    }\n",
       "\n",
       "    .dataframe tbody tr th {\n",
       "        vertical-align: top;\n",
       "    }\n",
       "\n",
       "    .dataframe thead th {\n",
       "        text-align: right;\n",
       "    }\n",
       "</style>\n",
       "<table border=\"1\" class=\"dataframe\">\n",
       "  <thead>\n",
       "    <tr style=\"text-align: right;\">\n",
       "      <th></th>\n",
       "      <th>dvcat</th>\n",
       "      <th>weight</th>\n",
       "      <th>dead</th>\n",
       "      <th>airbag</th>\n",
       "      <th>seatbelt</th>\n",
       "      <th>frontal</th>\n",
       "      <th>sex</th>\n",
       "      <th>ageOFocc</th>\n",
       "      <th>yearVeh</th>\n",
       "      <th>abcat</th>\n",
       "      <th>occRole</th>\n",
       "      <th>deploy</th>\n",
       "      <th>Group_age</th>\n",
       "    </tr>\n",
       "  </thead>\n",
       "  <tbody>\n",
       "    <tr>\n",
       "      <th>0</th>\n",
       "      <td>0</td>\n",
       "      <td>53.342</td>\n",
       "      <td>0</td>\n",
       "      <td>1</td>\n",
       "      <td>1</td>\n",
       "      <td>1</td>\n",
       "      <td>0</td>\n",
       "      <td>48</td>\n",
       "      <td>1997</td>\n",
       "      <td>0</td>\n",
       "      <td>0</td>\n",
       "      <td>1</td>\n",
       "      <td>2</td>\n",
       "    </tr>\n",
       "    <tr>\n",
       "      <th>1</th>\n",
       "      <td>1</td>\n",
       "      <td>154.960</td>\n",
       "      <td>1</td>\n",
       "      <td>1</td>\n",
       "      <td>0</td>\n",
       "      <td>1</td>\n",
       "      <td>1</td>\n",
       "      <td>26</td>\n",
       "      <td>1968</td>\n",
       "      <td>1</td>\n",
       "      <td>0</td>\n",
       "      <td>0</td>\n",
       "      <td>1</td>\n",
       "    </tr>\n",
       "    <tr>\n",
       "      <th>2</th>\n",
       "      <td>0</td>\n",
       "      <td>38.994</td>\n",
       "      <td>1</td>\n",
       "      <td>1</td>\n",
       "      <td>0</td>\n",
       "      <td>1</td>\n",
       "      <td>0</td>\n",
       "      <td>51</td>\n",
       "      <td>1994</td>\n",
       "      <td>1</td>\n",
       "      <td>0</td>\n",
       "      <td>0</td>\n",
       "      <td>2</td>\n",
       "    </tr>\n",
       "    <tr>\n",
       "      <th>3</th>\n",
       "      <td>1</td>\n",
       "      <td>168.568</td>\n",
       "      <td>1</td>\n",
       "      <td>1</td>\n",
       "      <td>1</td>\n",
       "      <td>1</td>\n",
       "      <td>1</td>\n",
       "      <td>27</td>\n",
       "      <td>1996</td>\n",
       "      <td>0</td>\n",
       "      <td>1</td>\n",
       "      <td>1</td>\n",
       "      <td>1</td>\n",
       "    </tr>\n",
       "    <tr>\n",
       "      <th>4</th>\n",
       "      <td>2</td>\n",
       "      <td>27.751</td>\n",
       "      <td>1</td>\n",
       "      <td>1</td>\n",
       "      <td>1</td>\n",
       "      <td>0</td>\n",
       "      <td>1</td>\n",
       "      <td>26</td>\n",
       "      <td>1997</td>\n",
       "      <td>2</td>\n",
       "      <td>1</td>\n",
       "      <td>0</td>\n",
       "      <td>1</td>\n",
       "    </tr>\n",
       "    <tr>\n",
       "      <th>...</th>\n",
       "      <td>...</td>\n",
       "      <td>...</td>\n",
       "      <td>...</td>\n",
       "      <td>...</td>\n",
       "      <td>...</td>\n",
       "      <td>...</td>\n",
       "      <td>...</td>\n",
       "      <td>...</td>\n",
       "      <td>...</td>\n",
       "      <td>...</td>\n",
       "      <td>...</td>\n",
       "      <td>...</td>\n",
       "      <td>...</td>\n",
       "    </tr>\n",
       "    <tr>\n",
       "      <th>17560</th>\n",
       "      <td>2</td>\n",
       "      <td>131.491</td>\n",
       "      <td>1</td>\n",
       "      <td>1</td>\n",
       "      <td>1</td>\n",
       "      <td>0</td>\n",
       "      <td>1</td>\n",
       "      <td>28</td>\n",
       "      <td>1997</td>\n",
       "      <td>0</td>\n",
       "      <td>0</td>\n",
       "      <td>1</td>\n",
       "      <td>1</td>\n",
       "    </tr>\n",
       "    <tr>\n",
       "      <th>17561</th>\n",
       "      <td>2</td>\n",
       "      <td>281.693</td>\n",
       "      <td>1</td>\n",
       "      <td>1</td>\n",
       "      <td>1</td>\n",
       "      <td>1</td>\n",
       "      <td>0</td>\n",
       "      <td>39</td>\n",
       "      <td>1987</td>\n",
       "      <td>1</td>\n",
       "      <td>0</td>\n",
       "      <td>0</td>\n",
       "      <td>1</td>\n",
       "    </tr>\n",
       "    <tr>\n",
       "      <th>17562</th>\n",
       "      <td>2</td>\n",
       "      <td>419.418</td>\n",
       "      <td>1</td>\n",
       "      <td>1</td>\n",
       "      <td>1</td>\n",
       "      <td>1</td>\n",
       "      <td>0</td>\n",
       "      <td>29</td>\n",
       "      <td>1988</td>\n",
       "      <td>0</td>\n",
       "      <td>0</td>\n",
       "      <td>1</td>\n",
       "      <td>1</td>\n",
       "    </tr>\n",
       "    <tr>\n",
       "      <th>17563</th>\n",
       "      <td>3</td>\n",
       "      <td>9.815</td>\n",
       "      <td>1</td>\n",
       "      <td>1</td>\n",
       "      <td>0</td>\n",
       "      <td>1</td>\n",
       "      <td>0</td>\n",
       "      <td>22</td>\n",
       "      <td>1990</td>\n",
       "      <td>1</td>\n",
       "      <td>0</td>\n",
       "      <td>0</td>\n",
       "      <td>1</td>\n",
       "    </tr>\n",
       "    <tr>\n",
       "      <th>17564</th>\n",
       "      <td>2</td>\n",
       "      <td>1395.602</td>\n",
       "      <td>1</td>\n",
       "      <td>1</td>\n",
       "      <td>1</td>\n",
       "      <td>1</td>\n",
       "      <td>1</td>\n",
       "      <td>19</td>\n",
       "      <td>1987</td>\n",
       "      <td>1</td>\n",
       "      <td>1</td>\n",
       "      <td>0</td>\n",
       "      <td>0</td>\n",
       "    </tr>\n",
       "  </tbody>\n",
       "</table>\n",
       "<p>17565 rows × 13 columns</p>\n",
       "</div>"
      ],
      "text/plain": [
       "       dvcat    weight  dead  airbag  seatbelt  frontal  sex  ageOFocc  \\\n",
       "0          0    53.342     0       1         1        1    0        48   \n",
       "1          1   154.960     1       1         0        1    1        26   \n",
       "2          0    38.994     1       1         0        1    0        51   \n",
       "3          1   168.568     1       1         1        1    1        27   \n",
       "4          2    27.751     1       1         1        0    1        26   \n",
       "...      ...       ...   ...     ...       ...      ...  ...       ...   \n",
       "17560      2   131.491     1       1         1        0    1        28   \n",
       "17561      2   281.693     1       1         1        1    0        39   \n",
       "17562      2   419.418     1       1         1        1    0        29   \n",
       "17563      3     9.815     1       1         0        1    0        22   \n",
       "17564      2  1395.602     1       1         1        1    1        19   \n",
       "\n",
       "       yearVeh  abcat  occRole  deploy  Group_age  \n",
       "0         1997      0        0       1          2  \n",
       "1         1968      1        0       0          1  \n",
       "2         1994      1        0       0          2  \n",
       "3         1996      0        1       1          1  \n",
       "4         1997      2        1       0          1  \n",
       "...        ...    ...      ...     ...        ...  \n",
       "17560     1997      0        0       1          1  \n",
       "17561     1987      1        0       0          1  \n",
       "17562     1988      0        0       1          1  \n",
       "17563     1990      1        0       0          1  \n",
       "17564     1987      1        1       0          0  \n",
       "\n",
       "[17565 rows x 13 columns]"
      ]
     },
     "execution_count": 36,
     "metadata": {},
     "output_type": "execute_result"
    }
   ],
   "source": [
    "data_train"
   ]
  },
  {
   "cell_type": "code",
   "execution_count": 37,
   "id": "b445efee",
   "metadata": {},
   "outputs": [
    {
     "data": {
      "text/plain": [
       "dvcat        0\n",
       "weight       0\n",
       "dead         0\n",
       "airbag       0\n",
       "seatbelt     0\n",
       "frontal      0\n",
       "sex          0\n",
       "ageOFocc     0\n",
       "yearVeh      0\n",
       "abcat        0\n",
       "occRole      0\n",
       "deploy       0\n",
       "Group_age    0\n",
       "dtype: int64"
      ]
     },
     "execution_count": 37,
     "metadata": {},
     "output_type": "execute_result"
    }
   ],
   "source": [
    "data_train.isnull().sum()"
   ]
  },
  {
   "cell_type": "code",
   "execution_count": 38,
   "id": "794acd85",
   "metadata": {},
   "outputs": [],
   "source": [
    "from sklearn.preprocessing import StandardScaler"
   ]
  },
  {
   "cell_type": "code",
   "execution_count": 39,
   "id": "92f54691",
   "metadata": {},
   "outputs": [],
   "source": [
    "scaler = StandardScaler()"
   ]
  },
  {
   "cell_type": "code",
   "execution_count": 40,
   "id": "48b03ed4",
   "metadata": {},
   "outputs": [],
   "source": [
    "df=scaler.fit_transform(data_train)"
   ]
  },
  {
   "cell_type": "code",
   "execution_count": 41,
   "id": "e67ae46c",
   "metadata": {},
   "outputs": [],
   "source": [
    "from sklearn.model_selection import train_test_split\n",
    "from sklearn.metrics import confusion_matrix,accuracy_score"
   ]
  },
  {
   "cell_type": "code",
   "execution_count": 42,
   "id": "315b14fa",
   "metadata": {},
   "outputs": [],
   "source": [
    "X_train, X_test, y_train, y_test = train_test_split(df, y, test_size = 0.2, random_state = 43)"
   ]
  },
  {
   "cell_type": "code",
   "execution_count": 43,
   "id": "2cd892a7",
   "metadata": {},
   "outputs": [],
   "source": [
    "import statsmodels.api as sm"
   ]
  },
  {
   "cell_type": "code",
   "execution_count": 44,
   "id": "a77ab4c9",
   "metadata": {
    "scrolled": true
   },
   "outputs": [
    {
     "name": "stdout",
     "output_type": "stream",
     "text": [
      "                            OLS Regression Results                            \n",
      "==============================================================================\n",
      "Dep. Variable:            injSeverity   R-squared:                       0.159\n",
      "Model:                            OLS   Adj. R-squared:                  0.158\n",
      "Method:                 Least Squares   F-statistic:                     221.5\n",
      "Date:                Sat, 13 May 2023   Prob (F-statistic):               0.00\n",
      "Time:                        10:22:41   Log-Likelihood:                -8491.1\n",
      "No. Observations:               14052   AIC:                         1.701e+04\n",
      "Df Residuals:                   14039   BIC:                         1.711e+04\n",
      "Df Model:                          12                                         \n",
      "Covariance Type:            nonrobust                                         \n",
      "==============================================================================\n",
      "                 coef    std err          t      P>|t|      [0.025      0.975]\n",
      "------------------------------------------------------------------------------\n",
      "const          0.3695      0.004     98.868      0.000       0.362       0.377\n",
      "x1            -0.0358      0.004     -9.387      0.000      -0.043      -0.028\n",
      "x2            -0.0657      0.004    -17.145      0.000      -0.073      -0.058\n",
      "x3            -0.1085      0.004    -28.751      0.000      -0.116      -0.101\n",
      "x4          3.405e-18   6.68e-18      0.510      0.610   -9.69e-18    1.65e-17\n",
      "x5            -0.0886      0.004    -22.765      0.000      -0.096      -0.081\n",
      "x6            -0.0261      0.004     -6.448      0.000      -0.034      -0.018\n",
      "x7            -0.0292      0.004     -7.641      0.000      -0.037      -0.022\n",
      "x8             0.0345      0.012      2.956      0.003       0.012       0.057\n",
      "x9            -0.0031      0.006     -0.534      0.593      -0.014       0.008\n",
      "x10           -0.0815      0.010     -8.121      0.000      -0.101      -0.062\n",
      "x11           -0.0185      0.004     -4.892      0.000      -0.026      -0.011\n",
      "x12           -0.0560      0.011     -5.047      0.000      -0.078      -0.034\n",
      "x13            0.0020      0.012      0.170      0.865      -0.021       0.025\n",
      "==============================================================================\n",
      "Omnibus:                    14707.784   Durbin-Watson:                   2.012\n",
      "Prob(Omnibus):                  0.000   Jarque-Bera (JB):             1713.536\n",
      "Skew:                           0.603   Prob(JB):                         0.00\n",
      "Kurtosis:                       1.787   Cond. No.                     3.65e+16\n",
      "==============================================================================\n",
      "\n",
      "Notes:\n",
      "[1] Standard Errors assume that the covariance matrix of the errors is correctly specified.\n",
      "[2] The smallest eigenvalue is 2.3e-29. This might indicate that there are\n",
      "strong multicollinearity problems or that the design matrix is singular.\n"
     ]
    }
   ],
   "source": [
    "xc=sm.add_constant(X_train)\n",
    "mlogit=sm.OLS(y_train,xc)\n",
    "fmlogit=mlogit.fit()\n",
    "print(fmlogit.summary())"
   ]
  },
  {
   "cell_type": "markdown",
   "id": "eaadfc7c",
   "metadata": {},
   "source": [
    "# KNN"
   ]
  },
  {
   "cell_type": "code",
   "execution_count": 45,
   "id": "528a398c",
   "metadata": {},
   "outputs": [],
   "source": [
    "from sklearn.neighbors import KNeighborsClassifier"
   ]
  },
  {
   "cell_type": "code",
   "execution_count": 46,
   "id": "0978b777",
   "metadata": {},
   "outputs": [],
   "source": [
    "knn = KNeighborsClassifier(n_neighbors = 3)"
   ]
  },
  {
   "cell_type": "code",
   "execution_count": 47,
   "id": "8518fb34",
   "metadata": {},
   "outputs": [
    {
     "data": {
      "text/plain": [
       "KNeighborsClassifier(n_neighbors=3)"
      ]
     },
     "execution_count": 47,
     "metadata": {},
     "output_type": "execute_result"
    }
   ],
   "source": [
    "knn.fit(X_train,y_train)"
   ]
  },
  {
   "cell_type": "code",
   "execution_count": 48,
   "id": "5e23eb72",
   "metadata": {},
   "outputs": [],
   "source": [
    "predict = knn.predict(X_test)"
   ]
  },
  {
   "cell_type": "code",
   "execution_count": 49,
   "id": "bad8f764",
   "metadata": {},
   "outputs": [
    {
     "data": {
      "text/plain": [
       "array([0, 1, 1, ..., 0, 0, 0], dtype=int64)"
      ]
     },
     "execution_count": 49,
     "metadata": {},
     "output_type": "execute_result"
    }
   ],
   "source": [
    "predict"
   ]
  },
  {
   "cell_type": "code",
   "execution_count": 50,
   "id": "18a41f2e",
   "metadata": {},
   "outputs": [
    {
     "data": {
      "text/plain": [
       "array([[1653,  525],\n",
       "       [ 646,  689]], dtype=int64)"
      ]
     },
     "execution_count": 50,
     "metadata": {},
     "output_type": "execute_result"
    }
   ],
   "source": [
    "confusion_matrix(y_test,predict)"
   ]
  },
  {
   "cell_type": "code",
   "execution_count": 51,
   "id": "b3d21b27",
   "metadata": {},
   "outputs": [],
   "source": [
    "KNN=accuracy_score(y_test,predict)"
   ]
  },
  {
   "cell_type": "code",
   "execution_count": 52,
   "id": "0db92441",
   "metadata": {},
   "outputs": [
    {
     "data": {
      "text/plain": [
       "0.6666666666666666"
      ]
     },
     "execution_count": 52,
     "metadata": {},
     "output_type": "execute_result"
    }
   ],
   "source": [
    "KNN"
   ]
  },
  {
   "cell_type": "code",
   "execution_count": 53,
   "id": "1bd1288c",
   "metadata": {},
   "outputs": [
    {
     "name": "stderr",
     "output_type": "stream",
     "text": [
      "C:\\Users\\hp\\anaconda3\\lib\\site-packages\\seaborn\\distributions.py:2619: FutureWarning: `distplot` is a deprecated function and will be removed in a future version. Please adapt your code to use either `displot` (a figure-level function with similar flexibility) or `histplot` (an axes-level function for histograms).\n",
      "  warnings.warn(msg, FutureWarning)\n"
     ]
    },
    {
     "data": {
      "text/plain": [
       "<AxesSubplot:xlabel='injSeverity', ylabel='Density'>"
      ]
     },
     "execution_count": 53,
     "metadata": {},
     "output_type": "execute_result"
    },
    {
     "data": {
      "image/png": "[encoded data removed]",
      "text/plain": [
       "<Figure size 432x288 with 1 Axes>"
      ]
     },
     "metadata": {
      "needs_background": "light"
     },
     "output_type": "display_data"
    }
   ],
   "source": [
    "sns.distplot(y_test-predict)"
   ]
  },
  {
   "cell_type": "markdown",
   "id": "2e8e9c2f",
   "metadata": {},
   "source": [
    "# RandomForest"
   ]
  },
  {
   "cell_type": "code",
   "execution_count": 54,
   "id": "b5d7bc13",
   "metadata": {},
   "outputs": [],
   "source": [
    "from sklearn.ensemble import RandomForestClassifier"
   ]
  },
  {
   "cell_type": "code",
   "execution_count": 55,
   "id": "e952e155",
   "metadata": {},
   "outputs": [],
   "source": [
    "RF = RandomForestClassifier()"
   ]
  },
  {
   "cell_type": "code",
   "execution_count": 56,
   "id": "8b8096f5",
   "metadata": {},
   "outputs": [
    {
     "data": {
      "text/plain": [
       "RandomForestClassifier()"
      ]
     },
     "execution_count": 56,
     "metadata": {},
     "output_type": "execute_result"
    }
   ],
   "source": [
    "RF.fit(X_train,y_train)"
   ]
  },
  {
   "cell_type": "code",
   "execution_count": 57,
   "id": "fa1bafe5",
   "metadata": {},
   "outputs": [],
   "source": [
    "predict_rf = RF.predict(X_test)"
   ]
  },
  {
   "cell_type": "code",
   "execution_count": 58,
   "id": "e2a654f8",
   "metadata": {},
   "outputs": [],
   "source": [
    "Random = accuracy_score(y_test,predict_rf)"
   ]
  },
  {
   "cell_type": "code",
   "execution_count": 59,
   "id": "c08c5e4d",
   "metadata": {},
   "outputs": [
    {
     "data": {
      "text/plain": [
       "0.7295758610873897"
      ]
     },
     "execution_count": 59,
     "metadata": {},
     "output_type": "execute_result"
    }
   ],
   "source": [
    "Random"
   ]
  },
  {
   "cell_type": "code",
   "execution_count": 60,
   "id": "bd4d9309",
   "metadata": {},
   "outputs": [
    {
     "name": "stderr",
     "output_type": "stream",
     "text": [
      "C:\\Users\\hp\\anaconda3\\lib\\site-packages\\seaborn\\distributions.py:2619: FutureWarning: `distplot` is a deprecated function and will be removed in a future version. Please adapt your code to use either `displot` (a figure-level function with similar flexibility) or `histplot` (an axes-level function for histograms).\n",
      "  warnings.warn(msg, FutureWarning)\n"
     ]
    },
    {
     "data": {
      "text/plain": [
       "<AxesSubplot:xlabel='injSeverity', ylabel='Density'>"
      ]
     },
     "execution_count": 60,
     "metadata": {},
     "output_type": "execute_result"
    },
    {
     "data": {
      "image/png": "[encoded data removed]",
      "text/plain": [
       "<Figure size 432x288 with 1 Axes>"
      ]
     },
     "metadata": {
      "needs_background": "light"
     },
     "output_type": "display_data"
    }
   ],
   "source": [
    "sns.distplot(y_test-predict)"
   ]
  },
  {
   "cell_type": "markdown",
   "id": "4ab37d63",
   "metadata": {},
   "source": [
    "# SVM"
   ]
  },
  {
   "cell_type": "code",
   "execution_count": 61,
   "id": "ae325e1d",
   "metadata": {},
   "outputs": [],
   "source": [
    "from sklearn.svm import SVC"
   ]
  },
  {
   "cell_type": "code",
   "execution_count": 62,
   "id": "72bc17f1",
   "metadata": {},
   "outputs": [],
   "source": [
    "classifier =SVC(kernel='rbf',random_state = 0)"
   ]
  },
  {
   "cell_type": "code",
   "execution_count": 63,
   "id": "d5d7dc4f",
   "metadata": {},
   "outputs": [
    {
     "data": {
      "text/plain": [
       "SVC(random_state=0)"
      ]
     },
     "execution_count": 63,
     "metadata": {},
     "output_type": "execute_result"
    }
   ],
   "source": [
    "classifier.fit(X_train,y_train)"
   ]
  },
  {
   "cell_type": "code",
   "execution_count": 64,
   "id": "51ef5b34",
   "metadata": {},
   "outputs": [],
   "source": [
    "predict = knn.predict(X_test)"
   ]
  },
  {
   "cell_type": "code",
   "execution_count": 65,
   "id": "b0bb7527",
   "metadata": {},
   "outputs": [],
   "source": [
    "SVM = accuracy_score(y_test,predict)"
   ]
  },
  {
   "cell_type": "code",
   "execution_count": 66,
   "id": "7d79f305",
   "metadata": {},
   "outputs": [
    {
     "data": {
      "text/plain": [
       "0.6666666666666666"
      ]
     },
     "execution_count": 66,
     "metadata": {},
     "output_type": "execute_result"
    }
   ],
   "source": [
    "SVM"
   ]
  },
  {
   "cell_type": "code",
   "execution_count": 67,
   "id": "084f5605",
   "metadata": {},
   "outputs": [
    {
     "name": "stderr",
     "output_type": "stream",
     "text": [
      "C:\\Users\\hp\\anaconda3\\lib\\site-packages\\seaborn\\distributions.py:2619: FutureWarning: `distplot` is a deprecated function and will be removed in a future version. Please adapt your code to use either `displot` (a figure-level function with similar flexibility) or `histplot` (an axes-level function for histograms).\n",
      "  warnings.warn(msg, FutureWarning)\n"
     ]
    },
    {
     "data": {
      "text/plain": [
       "<AxesSubplot:xlabel='injSeverity', ylabel='Density'>"
      ]
     },
     "execution_count": 67,
     "metadata": {},
     "output_type": "execute_result"
    },
    {
     "data": {
      "image/png": "[encoded data removed]",
      "text/plain": [
       "<Figure size 432x288 with 1 Axes>"
      ]
     },
     "metadata": {
      "needs_background": "light"
     },
     "output_type": "display_data"
    }
   ],
   "source": [
    "sns.distplot(y_test-predict)"
   ]
  },
  {
   "cell_type": "markdown",
   "id": "72e42740",
   "metadata": {},
   "source": [
    "# Logistic"
   ]
  },
  {
   "cell_type": "code",
   "execution_count": 68,
   "id": "eefb5be9",
   "metadata": {},
   "outputs": [],
   "source": [
    "from sklearn.linear_model import LogisticRegression"
   ]
  },
  {
   "cell_type": "code",
   "execution_count": 69,
   "id": "1ef9889c",
   "metadata": {},
   "outputs": [],
   "source": [
    "log = LogisticRegression()"
   ]
  },
  {
   "cell_type": "code",
   "execution_count": 70,
   "id": "4bd24a40",
   "metadata": {},
   "outputs": [
    {
     "data": {
      "text/plain": [
       "LogisticRegression()"
      ]
     },
     "execution_count": 70,
     "metadata": {},
     "output_type": "execute_result"
    }
   ],
   "source": [
    "log.fit(X_train,y_train)"
   ]
  },
  {
   "cell_type": "code",
   "execution_count": 71,
   "id": "2f954437",
   "metadata": {},
   "outputs": [],
   "source": [
    "predict = log.predict(X_test)"
   ]
  },
  {
   "cell_type": "code",
   "execution_count": 72,
   "id": "acbf8d38",
   "metadata": {},
   "outputs": [],
   "source": [
    "Log = accuracy_score(y_test,predict)"
   ]
  },
  {
   "cell_type": "code",
   "execution_count": 73,
   "id": "4a2a374c",
   "metadata": {},
   "outputs": [
    {
     "data": {
      "text/plain": [
       "LogisticRegression()"
      ]
     },
     "execution_count": 73,
     "metadata": {},
     "output_type": "execute_result"
    }
   ],
   "source": [
    "log"
   ]
  },
  {
   "cell_type": "code",
   "execution_count": 74,
   "id": "66f2deb5",
   "metadata": {},
   "outputs": [
    {
     "name": "stderr",
     "output_type": "stream",
     "text": [
      "C:\\Users\\hp\\anaconda3\\lib\\site-packages\\seaborn\\distributions.py:2619: FutureWarning: `distplot` is a deprecated function and will be removed in a future version. Please adapt your code to use either `displot` (a figure-level function with similar flexibility) or `histplot` (an axes-level function for histograms).\n",
      "  warnings.warn(msg, FutureWarning)\n"
     ]
    },
    {
     "data": {
      "text/plain": [
       "<AxesSubplot:xlabel='injSeverity', ylabel='Density'>"
      ]
     },
     "execution_count": 74,
     "metadata": {},
     "output_type": "execute_result"
    },
    {
     "data": {
      "image/png": "[encoded data removed]",
      "text/plain": [
       "<Figure size 432x288 with 1 Axes>"
      ]
     },
     "metadata": {
      "needs_background": "light"
     },
     "output_type": "display_data"
    }
   ],
   "source": [
    "sns.distplot(y_test-predict)"
   ]
  },
  {
   "cell_type": "markdown",
   "id": "0312d108",
   "metadata": {},
   "source": [
    "# Decision Tree"
   ]
  },
  {
   "cell_type": "code",
   "execution_count": 75,
   "id": "913e70d4",
   "metadata": {},
   "outputs": [],
   "source": [
    "from sklearn import tree"
   ]
  },
  {
   "cell_type": "code",
   "execution_count": 76,
   "id": "6f0c81da",
   "metadata": {},
   "outputs": [],
   "source": [
    "clf = tree.DecisionTreeClassifier()"
   ]
  },
  {
   "cell_type": "code",
   "execution_count": 77,
   "id": "5051b4eb",
   "metadata": {},
   "outputs": [
    {
     "data": {
      "text/plain": [
       "DecisionTreeClassifier()"
      ]
     },
     "execution_count": 77,
     "metadata": {},
     "output_type": "execute_result"
    }
   ],
   "source": [
    "clf.fit(X_train,y_train)"
   ]
  },
  {
   "cell_type": "code",
   "execution_count": 78,
   "id": "a56556b6",
   "metadata": {},
   "outputs": [],
   "source": [
    "predict = clf.predict(X_test)"
   ]
  },
  {
   "cell_type": "code",
   "execution_count": 79,
   "id": "d0d85ea1",
   "metadata": {},
   "outputs": [],
   "source": [
    "Decision = accuracy_score(y_test,predict)"
   ]
  },
  {
   "cell_type": "code",
   "execution_count": 80,
   "id": "dfd91913",
   "metadata": {},
   "outputs": [
    {
     "data": {
      "text/plain": [
       "0.6712211784799317"
      ]
     },
     "execution_count": 80,
     "metadata": {},
     "output_type": "execute_result"
    }
   ],
   "source": [
    "Decision"
   ]
  },
  {
   "cell_type": "code",
   "execution_count": 81,
   "id": "55b4f0f7",
   "metadata": {},
   "outputs": [
    {
     "name": "stderr",
     "output_type": "stream",
     "text": [
      "C:\\Users\\hp\\anaconda3\\lib\\site-packages\\seaborn\\distributions.py:2619: FutureWarning: `distplot` is a deprecated function and will be removed in a future version. Please adapt your code to use either `displot` (a figure-level function with similar flexibility) or `histplot` (an axes-level function for histograms).\n",
      "  warnings.warn(msg, FutureWarning)\n"
     ]
    },
    {
     "data": {
      "text/plain": [
       "<AxesSubplot:xlabel='injSeverity', ylabel='Density'>"
      ]
     },
     "execution_count": 81,
     "metadata": {},
     "output_type": "execute_result"
    },
    {
     "data": {
      "image/png": "[encoded data removed]",
      "text/plain": [
       "<Figure size 432x288 with 1 Axes>"
      ]
     },
     "metadata": {
      "needs_background": "light"
     },
     "output_type": "display_data"
    }
   ],
   "source": [
    "sns.distplot(y_test-predict)"
   ]
  },
  {
   "cell_type": "code",
   "execution_count": null,
   "id": "e521f554",
   "metadata": {},
   "outputs": [],
   "source": []
  },
  {
   "cell_type": "code",
   "execution_count": 82,
   "id": "426a9c71",
   "metadata": {},
   "outputs": [],
   "source": [
    "mydata = [\n",
    "    [\"KNN\", KNN],\n",
    "    [\"Random Forest\", Random],\n",
    "    [\"SVM\", SVM],\n",
    "    [\"Decision Tree\", Decision],\n",
    "    [\"Logistic\", Log]\n",
    "]\n",
    " \n",
    "head = [\"Algoritm\", \"Accuracy\"]"
   ]
  },
  {
   "cell_type": "code",
   "execution_count": 83,
   "id": "72ac320e",
   "metadata": {},
   "outputs": [
    {
     "name": "stdout",
     "output_type": "stream",
     "text": [
      "+---------------+------------+\n",
      "| Algoritm      |   Accuracy |\n",
      "+===============+============+\n",
      "| KNN           |   0.666667 |\n",
      "+---------------+------------+\n",
      "| Random Forest |   0.729576 |\n",
      "+---------------+------------+\n",
      "| SVM           |   0.666667 |\n",
      "+---------------+------------+\n",
      "| Decision Tree |   0.671221 |\n",
      "+---------------+------------+\n",
      "| Logistic      |   0.707657 |\n",
      "+---------------+------------+\n"
     ]
    }
   ],
   "source": [
    "print(tabulate(mydata, headers=head, tablefmt=\"grid\"))"
   ]
  },
  {
   "cell_type": "code",
   "execution_count": null,
   "id": "84c211b2",
   "metadata": {},
   "outputs": [],
   "source": []
  },
  {
   "cell_type": "code",
   "execution_count": null,
   "id": "c2461610",
   "metadata": {},
   "outputs": [],
   "source": []
  }
 ],
 "metadata": {
  "kernelspec": {
   "display_name": "Python 3 (ipykernel)",
   "language": "python",
   "name": "python3"
  },
  "language_info": {
   "codemirror_mode": {
    "name": "ipython",
    "version": 3
   },
   "file_extension": ".py",
   "mimetype": "text/x-python",
   "name": "python",
   "nbconvert_exporter": "python",
   "pygments_lexer": "ipython3",
   "version": "3.9.7"
  }
 },
 "nbformat": 4,
 "nbformat_minor": 5
}
